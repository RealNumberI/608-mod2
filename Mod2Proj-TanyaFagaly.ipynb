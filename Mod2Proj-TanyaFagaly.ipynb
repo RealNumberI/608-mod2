{
 "cells": [
  {
   "cell_type": "code",
   "execution_count": 1,
   "id": "26909b5b-e3ce-4f5a-8910-4397fef37c46",
   "metadata": {},
   "outputs": [
    {
     "name": "stdin",
     "output_type": "stream",
     "text": [
      "Enter first integer: 5\n",
      "Enter second integer: 9\n"
     ]
    },
    {
     "name": "stdout",
     "output_type": "stream",
     "text": [
      "The sum of 5 and 9 is 14\n"
     ]
    }
   ],
   "source": [
    "# 3.3 self-check\n",
    "number1 = int(input('Enter first integer:')) \n",
    "number2 = int(input('Enter second integer:')) \n",
    "total = number1 + number2\n",
    "print('The sum of', number1, 'and', number2, 'is', total)"
   ]
  },
  {
   "cell_type": "code",
   "execution_count": 2,
   "id": "69b66e01-316c-4884-9cba-4b33d4bec9f6",
   "metadata": {},
   "outputs": [
    {
     "name": "stdout",
     "output_type": "stream",
     "text": [
      "Passed\n"
     ]
    }
   ],
   "source": [
    "# 3.5 self-check\n",
    "grade = 85  \n",
    "if grade >= 60:  \n",
    "    print('Passed')\n",
    "grade = 55  \n",
    "if grade >= 60:  \n",
    "    print('Passed')  "
   ]
  },
  {
   "cell_type": "code",
   "execution_count": 7,
   "id": "39531d28-c19f-4be0-b04a-a1634eac37a5",
   "metadata": {},
   "outputs": [
    {
     "name": "stdout",
     "output_type": "stream",
     "text": [
      "oops\n"
     ]
    }
   ],
   "source": [
    "# 3.6 self- check elif\n",
    "grade = 80  \n",
    "if grade >= 90:  \n",
    "    print('A')  \n",
    "elif grade >= 80:  \n",
    "     print('oops')  \n",
    "else:\n",
    "    print('Not A or B') \n"
   ]
  },
  {
   "cell_type": "code",
   "execution_count": 1,
   "id": "a358d14e-a809-4ad5-ace9-382762a7f5d3",
   "metadata": {},
   "outputs": [
    {
     "data": {
      "text/plain": [
       "85"
      ]
     },
     "execution_count": 1,
     "metadata": {},
     "output_type": "execute_result"
    }
   ],
   "source": [
    "# 3.6 more eilif\n",
    "grade = 80\n",
    "if grade < 50:\n",
    "    grade += 20\n",
    "elif grade == 50:\n",
    "    grade += 10\n",
    "elif grade > 50:\n",
    "    grade += 5\n",
    "grade\n"
   ]
  },
  {
   "cell_type": "code",
   "execution_count": 2,
   "id": "0c6d13b8-93a7-4d29-9fba-008e1da36228",
   "metadata": {},
   "outputs": [
    {
     "name": "stdout",
     "output_type": "stream",
     "text": [
      "1010\n"
     ]
    }
   ],
   "source": [
    "#3.7 self-check\n",
    "\n",
    "product = 10\n",
    "\n",
    "while product <=1000: product += 10\n",
    "\n",
    "print(product)"
   ]
  },
  {
   "cell_type": "code",
   "execution_count": 3,
   "id": "5331ef01-28bb-470e-89f0-44cfd8ce41db",
   "metadata": {},
   "outputs": [
    {
     "name": "stdout",
     "output_type": "stream",
     "text": [
      "92\n"
     ]
    }
   ],
   "source": [
    "# 3.8 self-check\n",
    "total = 2\n",
    "\n",
    "for number in range(2,20,2):\n",
    "    total += number\n",
    "    \n",
    "print(total)"
   ]
  },
  {
   "cell_type": "code",
   "execution_count": 4,
   "id": "b5bb818f-b79e-4aad-a637-7cc2d73a7680",
   "metadata": {},
   "outputs": [
    {
     "name": "stdout",
     "output_type": "stream",
     "text": [
      "0 5 10 15 20 "
     ]
    }
   ],
   "source": [
    "# 3.13 self-check\n",
    "for number in range(0,25,5):\n",
    "    print(number,end=' ')"
   ]
  },
  {
   "cell_type": "code",
   "execution_count": 5,
   "id": "9ecdd653-5945-4e43-ac28-71b6e2e8614f",
   "metadata": {},
   "outputs": [
    {
     "name": "stdout",
     "output_type": "stream",
     "text": [
      "0 1 2 3 4 5 6 7 8 9 \n",
      "0 1 2 3 4 6 7 8 9 "
     ]
    }
   ],
   "source": [
    "# 3.15 examples\n",
    "for number in range(100):  \n",
    "    if number == 10:  \n",
    "        break  \n",
    "    print(number, end=' ')\n",
    "\n",
    "# Break - note that the five is missing\n",
    "print()\n",
    "for number in range(10):  \n",
    "    if number == 5:  \n",
    "        continue  \n",
    "    print(number, end=' ')"
   ]
  },
  {
   "cell_type": "code",
   "execution_count": 6,
   "id": "c6c943f6-43e8-4d10-a150-bc0f8e437382",
   "metadata": {},
   "outputs": [
    {
     "name": "stdout",
     "output_type": "stream",
     "text": [
      "True\n",
      "False\n",
      "True\n",
      "False\n",
      "False\n"
     ]
    }
   ],
   "source": [
    "# 3.16 self-check true false\n",
    "i = 1\n",
    "j = 2\n",
    "k = 3  \n",
    "m = 2  \n",
    "print((i >= 1) and (j < 4))\n",
    "print((m <= 99) and (k < m))\n",
    "print((j >= i) or (k == m))\n",
    "print((k + m < j) or (3 - j >= k))\n",
    "print(not (k > m) )"
   ]
  },
  {
   "cell_type": "code",
   "execution_count": 7,
   "id": "52aff18d-975f-4656-a18c-c7d0e86296e4",
   "metadata": {},
   "outputs": [
    {
     "name": "stdout",
     "output_type": "stream",
     "text": [
      "number of values:  6 \n",
      " sum:  475 \n",
      " mean:  79.16666666666667\n",
      "\n",
      "mean in Decimal format: 79.1666666666666714036182384006679058074951171875\n",
      "mean in f-string format: 79.17\n"
     ]
    }
   ],
   "source": [
    "# 6. Calculate Measures of Central Tendency - Native Python\n",
    "\"\"\"Using the data provided in the Self Check on p 110-111, question 4, calculate: \"\"\"\n",
    "values = [47, 95, 88, 73, 88, 84] \n",
    "count = len(values)\n",
    "total = sum(values)\n",
    "average = total/count\n",
    "print('number of values: ', count, '\\n sum: ', total, '\\n mean: ', average)\n",
    "\n",
    "# Experimenting with Decimal\n",
    "import decimal\n",
    "from decimal import Decimal\n",
    "print()\n",
    "print('mean in Decimal format:',Decimal(average))\n",
    "print('mean in f-string format:',f'{average:.2f}')"
   ]
  },
  {
   "cell_type": "code",
   "execution_count": 9,
   "id": "3b924055-efd9-41c5-84b5-a8f9356a0479",
   "metadata": {},
   "outputs": [
    {
     "name": "stdout",
     "output_type": "stream",
     "text": [
      "Average of random values is  79.16666666666667\n",
      "Median of random values is  86.0\n",
      "Mode of random values is  88\n"
     ]
    }
   ],
   "source": [
    "# 7. Calculate Measures of Central Tendency - with Statistic Module\n",
    "\"\"\"Using the data provided in the Self Check on p 110-111, question 4, calculate: \"\"\"\n",
    "values = [47, 95, 88, 73, 88, 84] \n",
    "import statistics\n",
    "print('Average of random values is ',statistics.mean(values))\n",
    "print('Median of random values is ',statistics.median(values))\n",
    "print('Mode of random values is ',statistics.mode(values))\n"
   ]
  },
  {
   "cell_type": "code",
   "execution_count": 11,
   "id": "d50df94a-bd04-4383-b1fc-b12c5ae50310",
   "metadata": {},
   "outputs": [
    {
     "name": "stdout",
     "output_type": "stream",
     "text": [
      "Count of 100 random values is  99\n",
      "Sum of 100 random values is  4361\n",
      "Average of 100 random values is  44.05050505050505\n",
      "Median of 100 random values is  43\n",
      "Mode of 100 random values is  55\n"
     ]
    }
   ],
   "source": [
    "# 8. Custom Central Tendency\n",
    "\n",
    "\"\"\"99 random integers 1-100\"\"\"\n",
    "\n",
    "values =  [66,16,97,17,71,27,82,2,69,21,25,31,7,23,65,77,79,24,48,76,1,4,56,37,43,56,45,94,0,65,55,18,89,15,52,3,73,97,33,8,5,78,2,25,36,98,38,89,20,54,50,33,25,42,40,10,60,24,76,52,11,10,55,46,40,21,90,72,8,50,5,91,99,79,9,11,73,83,38,79,19,33,75,64,55,43,65,12,11,3,11,33,71,32,54,56,58,55,17]\n",
    "\n",
    "count = len(values)\n",
    "\n",
    "total = 0\n",
    "for number in values:\n",
    "    total += number\n",
    "print('Count of 99 random values is ',count)\n",
    "print('Sum of 99 random values is ',total)\n",
    "print('Average of 99 random values is ',total/count)\n",
    "print('Median of 99 random values is ',statistics.median(values))\n",
    "print('Mode of 99 random values is ',statistics.mode(values))\n"
   ]
  },
  {
   "cell_type": "code",
   "execution_count": null,
   "id": "ca57fc90-29c2-4a74-ae5f-3148601547f7",
   "metadata": {},
   "outputs": [],
   "source": []
  }
 ],
 "metadata": {
  "kernelspec": {
   "display_name": "Python 3 (ipykernel)",
   "language": "python",
   "name": "python3"
  },
  "language_info": {
   "codemirror_mode": {
    "name": "ipython",
    "version": 3
   },
   "file_extension": ".py",
   "mimetype": "text/x-python",
   "name": "python",
   "nbconvert_exporter": "python",
   "pygments_lexer": "ipython3",
   "version": "3.9.12"
  }
 },
 "nbformat": 4,
 "nbformat_minor": 5
}
