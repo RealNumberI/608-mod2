{
 "cells": [
  {
   "cell_type": "code",
   "execution_count": 11,
   "id": "ecd5aafc-83d4-47ae-98d0-58a3de0e7bdf",
   "metadata": {},
   "outputs": [
    {
     "name": "stdout",
     "output_type": "stream",
     "text": [
      "Count of historic capital projects is  141\n",
      "Sum of historic capital projects is $ 73687\n",
      "Average of historic capital projects is $ 522.6028368794326\n",
      "Median of historic capital projects is $ 524\n",
      "Mode of historic capital projects is $ 260\n"
     ]
    }
   ],
   "source": [
    "# Bonus project - Work application\n",
    "\n",
    "\"\"\"What is the central tendency of the cost of historic capital projects? Numbers are in the millions, and are readomly generated (since I can't actually share that info.  :-)\"\"\"\n",
    "\n",
    "import statistics\n",
    "values =  [944,689,860,747,505,261,556,837,541,863,52,740,899,728,511,173,935,508,260,76,210,653,245,141,524,152,602,462,270,749,104,303,663,236,94,679,915,196,843,950,946,718,254,727,606,242,951,507,342,458,410,561,828,719,619,615,309,72,900,226,833,933,792,627,7,825,657,506,395,564,361,578,128,742,260,595,55,443,923,297,285,77,641,348,839,956,425,423,476,924,142,487,216,946,879,403,620,287,885,102,204,426,876,871,234,727,533,616,393,838,359,321,568,938,64,876,819,218,977,137,403,843,975,454,558,880,215,567,219,28,46,415,803,84,543,681,333,449,383,485,760]\n",
    "\n",
    "count = len(values)\n",
    "\n",
    "total = 0\n",
    "for number in values:\n",
    "    total += number\n",
    "print('Count of historic capital projects is ',count)\n",
    "print('Sum of historic capital projects is $',total)\n",
    "print('Average of historic capital projects is $',total/count)\n",
    "print('Median of historic capital projects is $',statistics.median(values))\n",
    "print('Mode of historic capital projects is $',statistics.mode(values))\n"
   ]
  },
  {
   "cell_type": "code",
   "execution_count": null,
   "id": "3988a25b-b7cc-4afe-a22b-b17e90422034",
   "metadata": {},
   "outputs": [],
   "source": []
  }
 ],
 "metadata": {
  "kernelspec": {
   "display_name": "Python 3 (ipykernel)",
   "language": "python",
   "name": "python3"
  },
  "language_info": {
   "codemirror_mode": {
    "name": "ipython",
    "version": 3
   },
   "file_extension": ".py",
   "mimetype": "text/x-python",
   "name": "python",
   "nbconvert_exporter": "python",
   "pygments_lexer": "ipython3",
   "version": "3.9.12"
  }
 },
 "nbformat": 4,
 "nbformat_minor": 5
}
